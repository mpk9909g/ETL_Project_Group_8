{
 "cells": [
  {
   "cell_type": "code",
   "execution_count": null,
   "metadata": {},
   "outputs": [],
   "source": [
    "import pandas as pd\n",
    "from sqlalchemy import create_engine"
   ]
  },
  {
   "cell_type": "markdown",
   "metadata": {},
   "source": [
    "### Extract CSVs into DataFrames"
   ]
  },
  {
   "cell_type": "code",
   "execution_count": null,
   "metadata": {},
   "outputs": [],
   "source": [
    "air_quality_file = \"Resources/aqi_yearly_1980_to_2021.csv\"\n",
    "air_quality_file_df = pd.read_csv(air_quality_file)\n",
    "air_quality_file_df.head()"
   ]
  },
  {
   "cell_type": "code",
   "execution_count": null,
   "metadata": {},
   "outputs": [],
   "source": [
    "rdc_listings_file = \"Resources/RDC_Inventory_Core_Metrics_County.csv\"\n",
    "rdc_listings_file_df = pd.read_csv(rdc_listings_file)\n",
    "rdc_listings_file_df.head()"
   ]
  },
  {
   "cell_type": "code",
   "execution_count": null,
   "metadata": {},
   "outputs": [],
   "source": []
  },
  {
   "cell_type": "markdown",
   "metadata": {},
   "source": [
    "### Transform Air Quality DataFrame"
   ]
  },
  {
   "cell_type": "code",
   "execution_count": null,
   "metadata": {},
   "outputs": [],
   "source": [
    "# Create a filtered dataframe from specific columns\n",
    "air_quality_file_cols = [\"State\", \"County\", \"Year\",\"Median AQI\"]\n",
    "air_quality_file_transformed_df= air_quality_file_df[air_quality_file_cols].copy()\n",
    "air_quality_file_transformed_df.head()"
   ]
  },
  {
   "cell_type": "code",
   "execution_count": null,
   "metadata": {},
   "outputs": [],
   "source": [
    "air_quality_filtered_df = air_quality_file_transformed_df.loc[air_quality_file_transformed_df[\"Year\"] == 2021, :]\n",
    "air_quality_filtered_df"
   ]
  },
  {
   "cell_type": "code",
   "execution_count": null,
   "metadata": {},
   "outputs": [],
   "source": [
    "air_quality_df = air_quality_filtered_df.rename(columns={\"State\": \"state\",\"County\":\"county\",\"Year\": \"year\",\"Median AQI\": \"median_aqi\"})\n",
    "air_quality_df"
   ]
  },
  {
   "cell_type": "code",
   "execution_count": null,
   "metadata": {},
   "outputs": [],
   "source": [
    "air_quality_df.index.name = 'id'\n",
    "air_quality_df"
   ]
  },
  {
   "cell_type": "code",
   "execution_count": null,
   "metadata": {},
   "outputs": [],
   "source": []
  },
  {
   "cell_type": "markdown",
   "metadata": {},
   "source": [
    "### Transform Listings DataFrame"
   ]
  },
  {
   "cell_type": "code",
   "execution_count": null,
   "metadata": {},
   "outputs": [],
   "source": [
    "# Create a filtered dataframe from specific columns\n",
    "rdc_listings_file_cols = [\"month_date_yyyymm\", \"county_name\", \"total_listing_count\", \"average_listing_price\", \"median_listing_price\", \"active_listing_count\", \"median_days_on_market\"]\n",
    "listings_file_transformed_df= rdc_listings_file_df[rdc_listings_file_cols].copy()\n",
    "listings_file_transformed_df"
   ]
  },
  {
   "cell_type": "code",
   "execution_count": null,
   "metadata": {},
   "outputs": [],
   "source": [
    "listings_file_transformed_df[['County', 'State']] = listings_file_transformed_df['county_name'].str.split(', ', 1, expand=True)\n",
    "listings_file_transformed_df"
   ]
  },
  {
   "cell_type": "code",
   "execution_count": null,
   "metadata": {},
   "outputs": [],
   "source": [
    "df = listings_file_transformed_df[[\"month_date_yyyymm\", \"County\", \"State\",\"total_listing_count\", \"average_listing_price\", \"median_listing_price\", \"active_listing_count\", \"median_days_on_market\"]]\n",
    "df"
   ]
  },
  {
   "cell_type": "code",
   "execution_count": null,
   "metadata": {},
   "outputs": [],
   "source": [
    "df[\"State\"] = df[\"State\"].str.upper()\n",
    "df[\"County\"] = df[\"County\"].str.title()\n",
    "df"
   ]
  },
  {
   "cell_type": "code",
   "execution_count": null,
   "metadata": {},
   "outputs": [],
   "source": [
    "#Bring in state name - state abbreviation conversion table\n",
    "state_abbreviation_file = \"Resources/state_abbreviation.csv\"\n",
    "state_abbreviation_file_df = pd.read_csv(state_abbreviation_file)\n",
    "state_abbreviation_file_df.head()"
   ]
  },
  {
   "cell_type": "code",
   "execution_count": null,
   "metadata": {},
   "outputs": [],
   "source": [
    "merge_df = pd.merge(df, state_abbreviation_file_df, left_on=\"State\", right_on=\"Code\")\n",
    "merge_df['Average_price']=merge_df['average_listing_price'].astype('int64')\n",
    "# merge_df['Average_price']=merge_df['average_listing_price'].astype('int64')\n",
    "merge_df"
   ]
  },
  {
   "cell_type": "code",
   "execution_count": null,
   "metadata": {},
   "outputs": [],
   "source": [
    "listings_df = merge_df[[\"County\", \"State_x\",\"State_y\",\"total_listing_count\", \"Average_price\", \"median_listing_price\", \"active_listing_count\", \"median_days_on_market\"]]\n",
    "listings_df = listings_df.rename(columns={\"month_date_yyyymm\": \"current_month\",\"County\":\"county\",\"State_x\":\"state_initial\",\"State_y\": \"state\",\"Average_price\": \"average_price\"})\n",
    "\n",
    "listings_df"
   ]
  },
  {
   "cell_type": "code",
   "execution_count": null,
   "metadata": {},
   "outputs": [],
   "source": [
    "listings_df.index.name = 'id'"
   ]
  },
  {
   "cell_type": "code",
   "execution_count": null,
   "metadata": {},
   "outputs": [],
   "source": [
    "listings_df"
   ]
  },
  {
   "cell_type": "code",
   "execution_count": null,
   "metadata": {},
   "outputs": [],
   "source": []
  },
  {
   "cell_type": "markdown",
   "metadata": {},
   "source": [
    "### Create database connection"
   ]
  },
  {
   "cell_type": "code",
   "execution_count": null,
   "metadata": {},
   "outputs": [],
   "source": [
    "connection_string = \"postgres:bootcamp@localhost:5432/realestate_db\"\n",
    "engine = create_engine(f'postgresql://{connection_string}')"
   ]
  },
  {
   "cell_type": "code",
   "execution_count": null,
   "metadata": {},
   "outputs": [],
   "source": [
    "# Confirm tables\n",
    "engine.table_names()"
   ]
  },
  {
   "cell_type": "markdown",
   "metadata": {},
   "source": [
    "### Load DataFrames into database"
   ]
  },
  {
   "cell_type": "code",
   "execution_count": null,
   "metadata": {},
   "outputs": [],
   "source": [
    "air_quality_df.to_sql(name='air_quality', con=engine, if_exists='append', index=True)"
   ]
  },
  {
   "cell_type": "code",
   "execution_count": null,
   "metadata": {},
   "outputs": [],
   "source": [
    "listings_df.to_sql(name='listings', con=engine, if_exists='append', index=True)"
   ]
  },
  {
   "cell_type": "code",
   "execution_count": null,
   "metadata": {},
   "outputs": [],
   "source": []
  },
  {
   "cell_type": "code",
   "execution_count": null,
   "metadata": {},
   "outputs": [],
   "source": []
  }
 ],
 "metadata": {
  "kernelspec": {
   "display_name": "Python 3",
   "language": "python",
   "name": "python3"
  },
  "language_info": {
   "codemirror_mode": {
    "name": "ipython",
    "version": 3
   },
   "file_extension": ".py",
   "mimetype": "text/x-python",
   "name": "python",
   "nbconvert_exporter": "python",
   "pygments_lexer": "ipython3",
   "version": "3.8.8"
  }
 },
 "nbformat": 4,
 "nbformat_minor": 2
}
